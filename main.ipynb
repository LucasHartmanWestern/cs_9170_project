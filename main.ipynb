{
 "cells": [
  {
   "cell_type": "markdown",
   "metadata": {},
   "source": [
    "# Imports"
   ]
  },
  {
   "cell_type": "code",
   "execution_count": 1,
   "metadata": {},
   "outputs": [],
   "source": [
    "from dqn_agent import DQNAgent\n",
    "from ppo_agent import PPOAgent\n",
    "from data_processing import preprocess_all_data, load_preprocessed_dataset, get_activity, get_column_units\n",
    "from visualize import visualize_results, visualize_training, visualize_preprocessed_data"
   ]
  },
  {
   "cell_type": "markdown",
   "metadata": {},
   "source": [
    "# Load data"
   ]
  },
  {
   "cell_type": "code",
   "execution_count": 2,
   "metadata": {},
   "outputs": [
    {
     "name": "stdout",
     "output_type": "stream",
     "text": [
      "--- Preprocessed Dataset Info ---\n",
      "Number of rows: 175498\n",
      "Number of columns: 42\n",
      "---------------------------------\n",
      "   Timestamp  Activity ID  Heart Rate  Hand Sensor - Temperature  \\\n",
      "0      37.70            1       100.0                     30.375   \n",
      "1      37.81            1       100.0                     30.375   \n",
      "2      37.92            1       100.0                     30.375   \n",
      "3      38.03            1       100.0                     30.375   \n",
      "4      38.14            1       101.0                     30.375   \n",
      "\n",
      "   Hand Sensor - Accelerometer - X  Hand Sensor - Accelerometer - Y  \\\n",
      "0                          2.30106                          7.25857   \n",
      "1                          2.24615                          7.48180   \n",
      "2                          2.30000                          7.10681   \n",
      "3                          2.49455                          7.52335   \n",
      "4                          2.71654                          8.30596   \n",
      "\n",
      "   Hand Sensor - Accelerometer - Z  Hand Sensor - Gyroscope - X  \\\n",
      "0                          6.09259                    -0.069961   \n",
      "1                          5.55219                    -0.431227   \n",
      "2                          6.09309                     0.075692   \n",
      "3                          6.17157                    -0.259058   \n",
      "4                          4.78671                     0.377115   \n",
      "\n",
      "   Hand Sensor - Gyroscope - Y  Hand Sensor - Gyroscope - Z  ...  \\\n",
      "0                    -0.018328                     0.004582  ...   \n",
      "1                     0.002685                    -0.062964  ...   \n",
      "2                    -0.030792                     0.005246  ...   \n",
      "3                    -0.267895                    -0.038533  ...   \n",
      "4                    -0.023688                    -0.020670  ...   \n",
      "\n",
      "   Ankle Sensor - Magnetometer - Z  Age  Height  Weight  Resting HR  Max HR  \\\n",
      "0                         -57.8847   27     182      83          75     193   \n",
      "1                         -58.4891   27     182      83          75     193   \n",
      "2                         -58.4845   27     182      83          75     193   \n",
      "3                         -58.3608   27     182      83          75     193   \n",
      "4                         -59.0013   27     182      83          75     193   \n",
      "\n",
      "   Sex - Female  Sex - Male  Dominant Hand - Left  Dominant Hand - Right  \n",
      "0             0           1                     0                      1  \n",
      "1             0           1                     0                      1  \n",
      "2             0           1                     0                      1  \n",
      "3             0           1                     0                      1  \n",
      "4             0           1                     0                      1  \n",
      "\n",
      "[5 rows x 42 columns]\n"
     ]
    }
   ],
   "source": [
    "from sklearn.model_selection import train_test_split\n",
    "'''\n",
    "Notes from Nick:\n",
    "- if you ever need to convert the activity ID to a string, use the get_activity() method.\n",
    "- if you ever need to find the units for a specific column in the dataset, use the get_column_units() method.\n",
    "Both methods are already imported from the data_processing module.\n",
    "'''\n",
    "\n",
    "# Load the preprocessed dataset\n",
    "df = load_preprocessed_dataset()\n",
    "print(df.head())\n",
    "\n",
    "# Seperate data into X and Y\n",
    "y_data = df['Activity ID']\n",
    "x_data = df.drop(columns=['Activity ID'])\n",
    "\n",
    "# Split data into 80% training and 20% testing sets\n",
    "x_train, x_test, y_train, y_test = train_test_split(x_data, y_data, test_size=0.2, random_state=42)\n",
    "\n"
   ]
  },
  {
   "cell_type": "markdown",
   "metadata": {},
   "source": [
    "# Initialize system"
   ]
  },
  {
   "cell_type": "code",
   "execution_count": null,
   "metadata": {},
   "outputs": [],
   "source": []
  },
  {
   "cell_type": "markdown",
   "metadata": {},
   "source": [
    "# Training"
   ]
  },
  {
   "cell_type": "code",
   "execution_count": null,
   "metadata": {},
   "outputs": [],
   "source": []
  },
  {
   "cell_type": "markdown",
   "metadata": {},
   "source": [
    "# Testing\n"
   ]
  },
  {
   "cell_type": "code",
   "execution_count": null,
   "metadata": {},
   "outputs": [],
   "source": []
  },
  {
   "cell_type": "markdown",
   "metadata": {},
   "source": [
    "# Visualize results"
   ]
  },
  {
   "cell_type": "code",
   "execution_count": null,
   "metadata": {},
   "outputs": [],
   "source": []
  }
 ],
 "metadata": {
  "kernelspec": {
   "display_name": "base",
   "language": "python",
   "name": "python3"
  },
  "language_info": {
   "codemirror_mode": {
    "name": "ipython",
    "version": 3
   },
   "file_extension": ".py",
   "mimetype": "text/x-python",
   "name": "python",
   "nbconvert_exporter": "python",
   "pygments_lexer": "ipython3",
   "version": "3.12.7"
  }
 },
 "nbformat": 4,
 "nbformat_minor": 2
}
