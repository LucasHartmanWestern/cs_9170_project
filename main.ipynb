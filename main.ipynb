{
 "cells": [
  {
   "cell_type": "markdown",
   "metadata": {},
   "source": [
    "# Imports"
   ]
  },
  {
   "cell_type": "code",
   "execution_count": 1,
   "metadata": {},
   "outputs": [],
   "source": [
    "from dqn_agent import DQNAgent\n",
    "from ppo_agent import PPOAgent\n",
    "from data_processing import load_preprocessed_dataset, get_biased_feature_percentage, train_test_split_data, get_xy_from_data, get_activity, get_column_units\n",
    "from visualize import visualize_results, visualize_training, visualize_preprocessed_data\n",
    "import numpy as np\n",
    "from sklearn.model_selection import train_test_split"
   ]
  },
  {
   "cell_type": "code",
   "execution_count": null,
   "metadata": {},
   "outputs": [],
   "source": []
  },
  {
   "cell_type": "markdown",
   "metadata": {},
   "source": [
    "# Load Data"
   ]
  },
  {
   "cell_type": "code",
   "execution_count": 2,
   "metadata": {},
   "outputs": [
    {
     "name": "stdout",
     "output_type": "stream",
     "text": [
      "---- Preprocessed Dataset Info ----\n",
      "Number of rows: 61000\n",
      "Number of columns: 40\n",
      "-----------------------------------\n",
      "--- Dataset Preperation Complete ---\n",
      "48800 training samples\n",
      "12200 testing samples\n",
      "Random state seed used for train/test split: 4200360045\n",
      "Percentage of rows where 'Sex - Female' == 1 is ~14.75%\n",
      "------------------------------------\n"
     ]
    }
   ],
   "source": [
    "# Load the preprocessed dataset\n",
    "df = load_preprocessed_dataset(verbose=True, drop_subject_id=True)\n",
    "\n",
    "# Get percentage of biased feature\n",
    "biased_feature_percentage = get_biased_feature_percentage(df, print_result=False)\n",
    "\n",
    "# Split data into 80% training and 20% testing\n",
    "train_df, test_df, seed = train_test_split_data(df, split_size=0.2, random_state=None)\n",
    "\n",
    "# Get X and y data from training and testing sets\n",
    "x_train, y_train = get_xy_from_data(train_df, target_feature_name=\"Activity ID\")\n",
    "x_test, y_test = get_xy_from_data(test_df, target_feature_name=\"Activity ID\")\n",
    "\n",
    "print(\"--- Dataset Preperation Complete ---\")\n",
    "print(f\"{y_train.shape[0]} training samples\")\n",
    "print(f\"{y_test.shape[0]} testing samples\")\n",
    "print(f\"Random state seed used for train/test split: {seed}\")\n",
    "print(f\"Percentage of rows where 'Sex - Female' == 1 is ~{biased_feature_percentage*100:.2f}%\")\n",
    "print(\"------------------------------------\")"
   ]
  },
  {
   "cell_type": "markdown",
   "metadata": {},
   "source": [
    "# Initialize system"
   ]
  },
  {
   "cell_type": "code",
   "execution_count": 3,
   "metadata": {},
   "outputs": [],
   "source": [
    "dqn_config = {\n",
    "    'state_size': df.shape[1] - 1,  \n",
    "    'action_size': 2,  \n",
    "    'hidden_size': 64,\n",
    "    'lr': 1e-3,\n",
    "    'gamma': 0.99,\n",
    "    'batch_size': 32,\n",
    "    'memory_size': 10000,\n",
    "    'epsilon_start': 1.0,\n",
    "    'epsilon_min': 0.01,\n",
    "    'epsilon_decay': 0.995\n",
    "}\n",
    "\n",
    "ppo_config = {\n",
    "    'state_size': df.shape[1] - 1,  \n",
    "    'action_size': 2,  \n",
    "    'hidden_size': 64,\n",
    "    'lr': 3e-4,\n",
    "    'gamma': 0.99,\n",
    "    'clip_epsilon': 0.2,\n",
    "    'update_epochs': 4,\n",
    "    'batch_size': 64,\n",
    "    'c1': 0.5,\n",
    "    'c2': 0.01\n",
    "}\n",
    "\n",
    "dqn_agent = DQNAgent(**dqn_config)\n",
    "ppo_agent = PPOAgent(**ppo_config)"
   ]
  },
  {
   "cell_type": "markdown",
   "metadata": {},
   "source": [
    "# Training"
   ]
  },
  {
   "cell_type": "code",
   "execution_count": 4,
   "metadata": {},
   "outputs": [
    {
     "name": "stdout",
     "output_type": "stream",
     "text": [
      "Training DQN Agent...\n",
      "Training PPO Agent...\n"
     ]
    }
   ],
   "source": [
    "def train_agent(agent, df, agent_name):\n",
    "    if isinstance(agent, DQNAgent):\n",
    "        for _ in range(5):\n",
    "            for index, row in df.iterrows():\n",
    "                state = row[:-1].values\n",
    "                action = agent.predict(state)\n",
    "                reward = row[-1]  # Assuming reward is last column\n",
    "                next_state = state  # DQNAgent does not generate next state; add logic if needed\n",
    "                done = False\n",
    "                agent.remember(state, action, reward, next_state, done)\n",
    "                agent.train()\n",
    "    else:  # PPO\n",
    "        for episode in range(5):\n",
    "            total_reward = 0\n",
    "            for index, row in df.iterrows():\n",
    "                state = row[:-1].values\n",
    "                action = agent.predict(state)\n",
    "                reward = row[-1]  # Assuming reward is last column\n",
    "                done = False\n",
    "                agent.store_transition(state, action, agent.last_log_prob, reward, done, agent.last_value)\n",
    "            agent.train()\n",
    "\n",
    "print(\"Training DQN Agent...\")\n",
    "dqn_agent.save(\"dqn_trained_model.pth\")\n",
    "\n",
    "print(\"Training PPO Agent...\")\n",
    "ppo_agent.save(\"ppo_trained_model.pth\")"
   ]
  },
  {
   "cell_type": "markdown",
   "metadata": {},
   "source": [
    "# Testing\n"
   ]
  },
  {
   "cell_type": "code",
   "execution_count": 5,
   "metadata": {},
   "outputs": [
    {
     "name": "stdout",
     "output_type": "stream",
     "text": [
      "Testing DQN Agent...\n",
      "DQN Test Reward: 87938\n",
      "Testing PPO Agent...\n",
      "PPO Test Reward: 170499\n"
     ]
    }
   ],
   "source": [
    "def test_agent(agent, df, agent_name):\n",
    "    total_reward = 0\n",
    "    for index, row in df.iterrows():\n",
    "        state = row[:-1].values\n",
    "        total_reward += agent.predict(state)\n",
    "    print(f\"{agent_name} Test Reward: {total_reward}\")\n",
    "\n",
    "print(\"Testing DQN Agent...\")\n",
    "dqn_agent.save(\"dqn_trained_model.pth\")\n",
    "test_agent(dqn_agent, df, \"DQN\")\n",
    "\n",
    "print(\"Testing PPO Agent...\")\n",
    "ppo_agent.save(\"ppo_trained_model.pth\")\n",
    "test_agent(ppo_agent, df, \"PPO\")"
   ]
  },
  {
   "cell_type": "markdown",
   "metadata": {},
   "source": [
    "# Visualize results"
   ]
  },
  {
   "cell_type": "code",
   "execution_count": 6,
   "metadata": {},
   "outputs": [],
   "source": [
    "# visualize_training([], [])\n",
    "# visualize_results(dqn_agent, ppo_agent, df)\n",
    "# visualize_preprocessed_data(df)"
   ]
  }
 ],
 "metadata": {
  "kernelspec": {
   "display_name": "base",
   "language": "python",
   "name": "python3"
  },
  "language_info": {
   "codemirror_mode": {
    "name": "ipython",
    "version": 3
   },
   "file_extension": ".py",
   "mimetype": "text/x-python",
   "name": "python",
   "nbconvert_exporter": "python",
   "pygments_lexer": "ipython3",
   "version": "3.12.7"
  }
 },
 "nbformat": 4,
 "nbformat_minor": 2
}
