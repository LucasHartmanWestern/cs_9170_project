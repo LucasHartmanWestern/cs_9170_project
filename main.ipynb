{
 "cells": [
  {
   "cell_type": "markdown",
   "metadata": {},
   "source": [
    "# Imports"
   ]
  },
  {
   "cell_type": "code",
   "execution_count": 9,
   "metadata": {},
   "outputs": [],
   "source": [
    "from dqn_agent import DQNAgent\n",
    "from ppo_agent import PPOAgent\n",
    "from ffnn_agent import FFNNAgent\n",
    "from data_processing import preprocess_all_data, load_preprocessed_dataset, get_activity, get_column_units\n",
    "from visualize import visualize_results, visualize_training, visualize_preprocessed_data\n",
    "import numpy as np\n",
    "from sklearn.model_selection import train_test_split\n",
    "import torch"
   ]
  },
  {
   "cell_type": "code",
   "execution_count": null,
   "metadata": {},
   "outputs": [],
   "source": []
  },
  {
   "cell_type": "markdown",
   "metadata": {},
   "source": [
    "# Load Data"
   ]
  },
  {
   "cell_type": "code",
   "execution_count": 10,
   "metadata": {},
   "outputs": [
    {
     "name": "stdout",
     "output_type": "stream",
     "text": [
      "--- Preprocessed Dataset Info ---\n",
      "Number of rows: 175498\n",
      "Number of columns: 42\n",
      "---------------------------------\n",
      "Index(['Timestamp', 'Activity ID', 'Heart Rate', 'Hand Sensor - Temperature',\n",
      "       'Hand Sensor - Accelerometer - X', 'Hand Sensor - Accelerometer - Y',\n",
      "       'Hand Sensor - Accelerometer - Z', 'Hand Sensor - Gyroscope - X',\n",
      "       'Hand Sensor - Gyroscope - Y', 'Hand Sensor - Gyroscope - Z',\n",
      "       'Hand Sensor - Magnetometer - X', 'Hand Sensor - Magnetometer - Y',\n",
      "       'Hand Sensor - Magnetometer - Z', 'Chest Sensor - Temperature',\n",
      "       'Chest Sensor - Accelerometer - X', 'Chest Sensor - Accelerometer - Y',\n",
      "       'Chest Sensor - Accelerometer - Z', 'Chest Sensor - Gyroscope - X',\n",
      "       'Chest Sensor - Gyroscope - Y', 'Chest Sensor - Gyroscope - Z',\n",
      "       'Chest Sensor - Magnetometer - X', 'Chest Sensor - Magnetometer - Y',\n",
      "       'Chest Sensor - Magnetometer - Z', 'Ankle Sensor - Temperature',\n",
      "       'Ankle Sensor - Accelerometer - X', 'Ankle Sensor - Accelerometer - Y',\n",
      "       'Ankle Sensor - Accelerometer - Z', 'Ankle Sensor - Gyroscope - X',\n",
      "       'Ankle Sensor - Gyroscope - Y', 'Ankle Sensor - Gyroscope - Z',\n",
      "       'Ankle Sensor - Magnetometer - X', 'Ankle Sensor - Magnetometer - Y',\n",
      "       'Ankle Sensor - Magnetometer - Z', 'Age', 'Height', 'Weight',\n",
      "       'Resting HR', 'Max HR', 'Sex - Female', 'Sex - Male',\n",
      "       'Dominant Hand - Left', 'Dominant Hand - Right'],\n",
      "      dtype='object')\n",
      "   Timestamp  Activity ID  Heart Rate  Hand Sensor - Temperature  \\\n",
      "0      37.70            1       100.0                     30.375   \n",
      "1      37.81            1       100.0                     30.375   \n",
      "2      37.92            1       100.0                     30.375   \n",
      "3      38.03            1       100.0                     30.375   \n",
      "4      38.14            1       101.0                     30.375   \n",
      "\n",
      "   Hand Sensor - Accelerometer - X  Hand Sensor - Accelerometer - Y  \\\n",
      "0                          2.30106                          7.25857   \n",
      "1                          2.24615                          7.48180   \n",
      "2                          2.30000                          7.10681   \n",
      "3                          2.49455                          7.52335   \n",
      "4                          2.71654                          8.30596   \n",
      "\n",
      "   Hand Sensor - Accelerometer - Z  Hand Sensor - Gyroscope - X  \\\n",
      "0                          6.09259                    -0.069961   \n",
      "1                          5.55219                    -0.431227   \n",
      "2                          6.09309                     0.075692   \n",
      "3                          6.17157                    -0.259058   \n",
      "4                          4.78671                     0.377115   \n",
      "\n",
      "   Hand Sensor - Gyroscope - Y  Hand Sensor - Gyroscope - Z  ...  \\\n",
      "0                    -0.018328                     0.004582  ...   \n",
      "1                     0.002685                    -0.062964  ...   \n",
      "2                    -0.030792                     0.005246  ...   \n",
      "3                    -0.267895                    -0.038533  ...   \n",
      "4                    -0.023688                    -0.020670  ...   \n",
      "\n",
      "   Ankle Sensor - Magnetometer - Z  Age  Height  Weight  Resting HR  Max HR  \\\n",
      "0                         -57.8847   27     182      83          75     193   \n",
      "1                         -58.4891   27     182      83          75     193   \n",
      "2                         -58.4845   27     182      83          75     193   \n",
      "3                         -58.3608   27     182      83          75     193   \n",
      "4                         -59.0013   27     182      83          75     193   \n",
      "\n",
      "   Sex - Female  Sex - Male  Dominant Hand - Left  Dominant Hand - Right  \n",
      "0             0           1                     0                      1  \n",
      "1             0           1                     0                      1  \n",
      "2             0           1                     0                      1  \n",
      "3             0           1                     0                      1  \n",
      "4             0           1                     0                      1  \n",
      "\n",
      "[5 rows x 42 columns]\n"
     ]
    }
   ],
   "source": [
    "# Load the preprocessed dataset\n",
    "\n",
    "df = load_preprocessed_dataset()\n",
    "\n",
    "# Split data into 80% training and 20% testing sets\n",
    "df_train, df_test = train_test_split(df, test_size=0.2, random_state=42)\n",
    "\n",
    "discrete_columns = [\n",
    "        'Activity ID', 'Age', 'Height', 'Weight', 'Resting HR', 'Max HR',\n",
    "        'Sex - Female', 'Sex - Male', 'Dominant Hand - Left', 'Dominant Hand - Right'\n",
    "]\n",
    "\n",
    "continuous_columns = [\n",
    "        'Timestamp', 'Heart Rate', 'Hand Sensor - Temperature',\n",
    "        'Hand Sensor - Accelerometer - X', 'Hand Sensor - Accelerometer - Y',\n",
    "        'Hand Sensor - Accelerometer - Z', 'Hand Sensor - Gyroscope - X',\n",
    "        'Hand Sensor - Gyroscope - Y', 'Hand Sensor - Gyroscope - Z',\n",
    "        'Hand Sensor - Magnetometer - X', 'Hand Sensor - Magnetometer - Y',\n",
    "        'Hand Sensor - Magnetometer - Z', 'Chest Sensor - Temperature',\n",
    "        'Chest Sensor - Accelerometer - X', 'Chest Sensor - Accelerometer - Y',\n",
    "        'Chest Sensor - Accelerometer - Z', 'Chest Sensor - Gyroscope - X',\n",
    "        'Chest Sensor - Gyroscope - Y', 'Chest Sensor - Gyroscope - Z',\n",
    "        'Chest Sensor - Magnetometer - X', 'Chest Sensor - Magnetometer - Y',\n",
    "        'Chest Sensor - Magnetometer - Z', 'Ankle Sensor - Temperature',\n",
    "        'Ankle Sensor - Accelerometer - X', 'Ankle Sensor - Accelerometer - Y',\n",
    "        'Ankle Sensor - Accelerometer - Z', 'Ankle Sensor - Gyroscope - X',\n",
    "        'Ankle Sensor - Gyroscope - Y', 'Ankle Sensor - Gyroscope - Z',\n",
    "        'Ankle Sensor - Magnetometer - X', 'Ankle Sensor - Magnetometer - Y',\n",
    "        'Ankle Sensor - Magnetometer - Z'\n",
    "]\n",
    "\n",
    "print(df_train.columns)\n",
    "print(df.head())"
   ]
  },
  {
   "cell_type": "markdown",
   "metadata": {},
   "source": [
    "# Initialize system"
   ]
  },
  {
   "cell_type": "code",
   "execution_count": 11,
   "metadata": {},
   "outputs": [
    {
     "name": "stdout",
     "output_type": "stream",
     "text": [
      "Using device: cpu\n"
     ]
    }
   ],
   "source": [
    "#discrete action size columns\n",
    "dqn_config = {\n",
    "    'state_size': df.shape[1] - 1,  \n",
    "    'action_size': len(discrete_columns),  \n",
    "    'hidden_size': 64,\n",
    "    'lr': 1e-3,\n",
    "    'gamma': 0.99,\n",
    "    'batch_size': 32,\n",
    "    'memory_size': 10000,\n",
    "    'epsilon_start': 1.0,\n",
    "    'epsilon_min': 0.01,\n",
    "    'epsilon_decay': 0.995\n",
    "}\n",
    "\n",
    "\n",
    "#continuous\n",
    "ppo_config = {\n",
    "    'state_size': df.shape[1] - 1,  \n",
    "    'action_size': len(continuous_columns),   \n",
    "    'hidden_size': 64,\n",
    "    'lr': 3e-4,\n",
    "    'gamma': 0.99,\n",
    "    'clip_epsilon': 0.2,\n",
    "    'update_epochs': 4,\n",
    "    'batch_size': 64,\n",
    "    'c1': 0.5,\n",
    "    'c2': 0.01\n",
    "}\n",
    "\n",
    "ffnn_config = {\n",
    "    'input_size': df.shape[1] - 1,\n",
    "    'hidden_sizes': [64, 64],\n",
    "    'output_size': 1,\n",
    "    'learning_rate': 0.001,\n",
    "    'batch_size': 32,\n",
    "    'epochs': 1,\n",
    "    'type': 'regression'\n",
    "}\n",
    "\n",
    "\n",
    "dqn_agent = DQNAgent(**dqn_config)\n",
    "ppo_agent = PPOAgent(**ppo_config)\n",
    "ffnn_agent = FFNNAgent(**ffnn_config)"
   ]
  },
  {
   "cell_type": "markdown",
   "metadata": {},
   "source": [
    "# Training"
   ]
  },
  {
   "cell_type": "code",
   "execution_count": 14,
   "metadata": {},
   "outputs": [
    {
     "name": "stdout",
     "output_type": "stream",
     "text": [
      "Baseline | Reward: -0.0022 | Accuracy: 0.9978\n",
      "length of discrete action: 3\n"
     ]
    },
    {
     "ename": "IndexError",
     "evalue": "index 41 is out of bounds for axis 1 with size 41",
     "output_type": "error",
     "traceback": [
      "\u001b[1;31m---------------------------------------------------------------------------\u001b[0m",
      "\u001b[1;31mIndexError\u001b[0m                                Traceback (most recent call last)",
      "Cell \u001b[1;32mIn[14], line 91\u001b[0m\n\u001b[0;32m     87\u001b[0m     \u001b[38;5;28;01mreturn\u001b[39;00m metrics\n\u001b[0;32m     90\u001b[0m \u001b[38;5;66;03m# Train agents and return results\u001b[39;00m\n\u001b[1;32m---> 91\u001b[0m results \u001b[38;5;241m=\u001b[39m \u001b[43mtrain_agents\u001b[49m\u001b[43m(\u001b[49m\u001b[43mdf_train\u001b[49m\u001b[43m,\u001b[49m\u001b[43m \u001b[49m\u001b[43mdqn_agent\u001b[49m\u001b[43m,\u001b[49m\u001b[43m \u001b[49m\u001b[43mppo_agent\u001b[49m\u001b[43m,\u001b[49m\u001b[43m \u001b[49m\u001b[43mffnn_agent\u001b[49m\u001b[43m)\u001b[49m\n\u001b[0;32m     93\u001b[0m \u001b[38;5;66;03m#Show progressive results\u001b[39;00m\n\u001b[0;32m     94\u001b[0m \u001b[38;5;28mprint\u001b[39m(\u001b[38;5;124m\"\u001b[39m\u001b[38;5;124mTraining DQN Agent...\u001b[39m\u001b[38;5;124m\"\u001b[39m)\n",
      "Cell \u001b[1;32mIn[14], line 50\u001b[0m, in \u001b[0;36mtrain_agents\u001b[1;34m(df, dqn_agent, ppo_agent, ffnn_agent, episodes, save_path)\u001b[0m\n\u001b[0;32m     47\u001b[0m \u001b[38;5;28mprint\u001b[39m(\u001b[38;5;124mf\u001b[39m\u001b[38;5;124m'\u001b[39m\u001b[38;5;124mlength of discrete action: \u001b[39m\u001b[38;5;132;01m{\u001b[39;00mdiscrete_action\u001b[38;5;132;01m}\u001b[39;00m\u001b[38;5;124m'\u001b[39m)\n\u001b[0;32m     49\u001b[0m synthetic_sample \u001b[38;5;241m=\u001b[39m np\u001b[38;5;241m.\u001b[39mzeros((\u001b[38;5;241m1\u001b[39m, df\u001b[38;5;241m.\u001b[39mshape[\u001b[38;5;241m1\u001b[39m] \u001b[38;5;241m-\u001b[39m \u001b[38;5;241m1\u001b[39m))\n\u001b[1;32m---> 50\u001b[0m \u001b[43msynthetic_sample\u001b[49m\u001b[43m[\u001b[49m\u001b[43m:\u001b[49m\u001b[43m,\u001b[49m\u001b[43m \u001b[49m\u001b[43mdf\u001b[49m\u001b[38;5;241;43m.\u001b[39;49m\u001b[43mcolumns\u001b[49m\u001b[38;5;241;43m.\u001b[39;49m\u001b[43mget_indexer\u001b[49m\u001b[43m(\u001b[49m\u001b[43mdiscrete_columns\u001b[49m\u001b[43m)\u001b[49m\u001b[43m]\u001b[49m \u001b[38;5;241m=\u001b[39m discrete_action\n\u001b[0;32m     51\u001b[0m synthetic_sample[:, df\u001b[38;5;241m.\u001b[39mcolumns\u001b[38;5;241m.\u001b[39mget_indexer(continuous_columns)] \u001b[38;5;241m=\u001b[39m continuous_action\n\u001b[0;32m     53\u001b[0m synthetic_data\u001b[38;5;241m.\u001b[39mappend(synthetic_sample)\n",
      "\u001b[1;31mIndexError\u001b[0m: index 41 is out of bounds for axis 1 with size 41"
     ]
    }
   ],
   "source": [
    "#generate data (actions)\n",
    "#neural net trains on data\n",
    "#predict on normal dataset\n",
    "#return rewards and accuracy to plot\n",
    "def evaluate_ffnn(ffnn_agent, data, labels):\n",
    "    # Ensure data is converted to NumPy array first\n",
    "    if isinstance(data, np.ndarray) == False:\n",
    "        data = data.to_numpy()\n",
    "    if isinstance(labels, np.ndarray) == False:\n",
    "        labels = labels.to_numpy()\n",
    "\n",
    "    # Convert to PyTorch tensors\n",
    "    data_tensor = torch.tensor(data, dtype=torch.float32)\n",
    "    labels_tensor = torch.tensor(labels, dtype=torch.float32)\n",
    "\n",
    "    device = next(ffnn_agent.model.parameters()).device\n",
    "    data_tensor, labels_tensor = data_tensor.to(device), labels_tensor.to(device)\n",
    "\n",
    "    predictions = ffnn_agent.predict(data_tensor)\n",
    "    mse = torch.mean((torch.tensor(predictions) - labels_tensor) ** 2).item()\n",
    "    accuracy = 1 - mse\n",
    "    return -mse, accuracy\n",
    "\n",
    "def train_agents(df, dqn_agent, ppo_agent, ffnn_agent, episodes=100, save_path='training_metrics.json'):\n",
    "    SYNTHETIC_SAMPLES = int(0.1 * len(df))\n",
    "    rewards = []\n",
    "    baseline_rewards = []\n",
    "    baseline_accuracies = []\n",
    "    accuracies = []\n",
    "\n",
    "    ffnn_agent.train(df_train.iloc[:, :-1].values, df_train.iloc[:, -1:].values)\n",
    "    baseline_reward, baseline_accuracy = evaluate_ffnn(ffnn_agent, df_train.iloc[:, :-1], df_train.iloc[:, -1:])\n",
    "    baseline_rewards.append(baseline_reward)\n",
    "    baseline_accuracies.append(baseline_accuracy)\n",
    "    print(f\"Baseline | Reward: {baseline_reward:.4f} | Accuracy: {baseline_accuracy:.4f}\")\n",
    "\n",
    "\n",
    "    for episode in range(episodes):\n",
    "        synthetic_data = []\n",
    "        synthetic_labels = []\n",
    "\n",
    "        for _ in range(SYNTHETIC_SAMPLES):\n",
    "            state = df.sample(n=1).iloc[:, :-1].values.flatten()  # Example random state for RL\n",
    "            discrete_action = dqn_agent.predict(state)  # Discrete variable data\n",
    "            continuous_action = ppo_agent.predict(state)  # Continuous variable data\n",
    "\n",
    "            print(f'length of discrete action: {discrete_action}')\n",
    "\n",
    "            synthetic_sample = np.zeros((1, df.shape[1] - 1))\n",
    "            synthetic_sample[:, df.columns.get_indexer(discrete_columns)] = discrete_action\n",
    "            synthetic_sample[:, df.columns.get_indexer(continuous_columns)] = continuous_action\n",
    "\n",
    "            synthetic_data.append(synthetic_sample)\n",
    "            synthetic_labels.append(np.random.rand(1, 1))  # Example label logic\n",
    "\n",
    "        synthetic_data = np.vstack(synthetic_data)\n",
    "        synthetic_labels = np.vstack(synthetic_labels)\n",
    "\n",
    "        # Train FFNN on synthetic data\n",
    "        ffnn_agent.train(synthetic_data, synthetic_labels)\n",
    "\n",
    "        # Evaluate FFNN on original data to compute reward and accuracy\n",
    "        reward, accuracy = evaluate_ffnn(ffnn_agent, df.iloc[:, :-1], df.iloc[:, -1:])\n",
    "        rewards.append(reward)\n",
    "        accuracies.append(accuracy)\n",
    "\n",
    "        # Store experience in RL agents and train them\n",
    "        dqn_agent.remember(state, discrete_action, reward, state, False)\n",
    "        ppo_agent.store_transition(state, continuous_action, 0, reward, False, 0)  # Adjust if needed\n",
    "        dqn_agent.train()\n",
    "        ppo_agent.train()\n",
    "\n",
    "        print(f\"Episode {episode + 1}/{episodes} | Reward: {reward:.4f} | Accuracy: {accuracy:.4f}\")\n",
    "\n",
    "    # Save metrics\n",
    "    metrics = {\n",
    "        'baseline_rewards': baseline_rewards,\n",
    "        'baseline_accuracies': baseline_accuracies,\n",
    "        'rewards': rewards,\n",
    "        'accuracies': accuracies\n",
    "    }\n",
    "    import json\n",
    "    with open(save_path, 'w') as f:\n",
    "        json.dump(metrics, f)\n",
    "    print(f\"Metrics saved to {save_path}\")\n",
    "\n",
    "    return metrics\n",
    "\n",
    "\n",
    "# Train agents and return results\n",
    "results = train_agents(df_train, dqn_agent, ppo_agent, ffnn_agent)\n",
    "\n",
    "#Show progressive results\n",
    "print(\"Training DQN Agent...\")\n",
    "dqn_agent.save(\"dqn_trained_model.pth\")\n",
    "\n",
    "print(\"Training PPO Agent...\")\n",
    "ppo_agent.save(\"ppo_trained_model.pth\")"
   ]
  },
  {
   "cell_type": "markdown",
   "metadata": {},
   "source": [
    "# Testing\n"
   ]
  },
  {
   "cell_type": "code",
   "execution_count": null,
   "metadata": {},
   "outputs": [],
   "source": [
    "def test_agent(ffnn_agent, test_df):\n",
    "    test_data = test_df.iloc[:, :-1].values\n",
    "    test_labels = test_df.iloc[:, -1:].values\n",
    "    reward, accuracy = evaluate_ffnn(ffnn_agent, test_data, test_labels)\n",
    "    print(f\"Test Results | Reward: {reward:.4f} | Accuracy: {accuracy:.4f}\")\n",
    "\n",
    "# Test FFNN on testing set\n",
    "test_agent(ffnn_agent, df_test)"
   ]
  },
  {
   "cell_type": "markdown",
   "metadata": {},
   "source": [
    "# Visualize results"
   ]
  },
  {
   "cell_type": "code",
   "execution_count": null,
   "metadata": {},
   "outputs": [],
   "source": [
    "# visualize_training([], [])\n",
    "# visualize_results(dqn_agent, ppo_agent, df)\n",
    "# visualize_preprocessed_data(df)"
   ]
  }
 ],
 "metadata": {
  "kernelspec": {
   "display_name": "Python 3",
   "language": "python",
   "name": "python3"
  },
  "language_info": {
   "codemirror_mode": {
    "name": "ipython",
    "version": 3
   },
   "file_extension": ".py",
   "mimetype": "text/x-python",
   "name": "python",
   "nbconvert_exporter": "python",
   "pygments_lexer": "ipython3",
   "version": "3.10.5"
  }
 },
 "nbformat": 4,
 "nbformat_minor": 2
}
